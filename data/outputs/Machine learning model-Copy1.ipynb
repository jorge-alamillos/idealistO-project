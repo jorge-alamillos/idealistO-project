{
 "cells": [
  {
   "cell_type": "code",
   "execution_count": 7,
   "metadata": {},
   "outputs": [],
   "source": [
    "import pandas as pd\n",
    "from sklearn.linear_model import LinearRegression\n",
    "import numpy as np\n",
    "import seaborn as sns\n",
    "from sklearn.ensemble import RandomForestRegressor, BaggingRegressor, AdaBoostRegressor, ExtraTreesRegressor\n"
   ]
  },
  {
   "cell_type": "code",
   "execution_count": 8,
   "metadata": {
    "scrolled": true
   },
   "outputs": [],
   "source": [
    "df_ml = pd.read_csv('clean_data_w_neigh.csv',index_col=\"id\")"
   ]
  },
  {
   "cell_type": "code",
   "execution_count": 9,
   "metadata": {},
   "outputs": [
    {
     "data": {
      "text/html": [
       "<div>\n",
       "<style scoped>\n",
       "    .dataframe tbody tr th:only-of-type {\n",
       "        vertical-align: middle;\n",
       "    }\n",
       "\n",
       "    .dataframe tbody tr th {\n",
       "        vertical-align: top;\n",
       "    }\n",
       "\n",
       "    .dataframe thead th {\n",
       "        text-align: right;\n",
       "    }\n",
       "</style>\n",
       "<table border=\"1\" class=\"dataframe\">\n",
       "  <thead>\n",
       "    <tr style=\"text-align: right;\">\n",
       "      <th></th>\n",
       "      <th>sq_mt_built</th>\n",
       "      <th>n_rooms</th>\n",
       "      <th>n_bathrooms</th>\n",
       "      <th>floor</th>\n",
       "      <th>buy_price</th>\n",
       "      <th>buy_price_by_area</th>\n",
       "      <th>is_renewal_needed</th>\n",
       "      <th>is_new_development</th>\n",
       "      <th>has_lift</th>\n",
       "      <th>is_exterior</th>\n",
       "      <th>has_parking</th>\n",
       "      <th>lat</th>\n",
       "      <th>long</th>\n",
       "      <th>security</th>\n",
       "      <th>transport</th>\n",
       "      <th>health</th>\n",
       "      <th>education</th>\n",
       "    </tr>\n",
       "    <tr>\n",
       "      <th>id</th>\n",
       "      <th></th>\n",
       "      <th></th>\n",
       "      <th></th>\n",
       "      <th></th>\n",
       "      <th></th>\n",
       "      <th></th>\n",
       "      <th></th>\n",
       "      <th></th>\n",
       "      <th></th>\n",
       "      <th></th>\n",
       "      <th></th>\n",
       "      <th></th>\n",
       "      <th></th>\n",
       "      <th></th>\n",
       "      <th></th>\n",
       "      <th></th>\n",
       "      <th></th>\n",
       "    </tr>\n",
       "  </thead>\n",
       "  <tbody>\n",
       "    <tr>\n",
       "      <th>21742</th>\n",
       "      <td>64</td>\n",
       "      <td>2</td>\n",
       "      <td>1</td>\n",
       "      <td>3</td>\n",
       "      <td>85000</td>\n",
       "      <td>1328</td>\n",
       "      <td>0</td>\n",
       "      <td>0</td>\n",
       "      <td>0</td>\n",
       "      <td>1</td>\n",
       "      <td>0</td>\n",
       "      <td>40.342876</td>\n",
       "      <td>-3.688974</td>\n",
       "      <td>0</td>\n",
       "      <td>20</td>\n",
       "      <td>6</td>\n",
       "      <td>3</td>\n",
       "    </tr>\n",
       "  </tbody>\n",
       "</table>\n",
       "</div>"
      ],
      "text/plain": [
       "       sq_mt_built  n_rooms  n_bathrooms  floor  buy_price  buy_price_by_area  \\\n",
       "id                                                                              \n",
       "21742           64        2            1      3      85000               1328   \n",
       "\n",
       "       is_renewal_needed  is_new_development  has_lift  is_exterior  \\\n",
       "id                                                                    \n",
       "21742                  0                   0         0            1   \n",
       "\n",
       "       has_parking        lat      long  security  transport  health  \\\n",
       "id                                                                     \n",
       "21742            0  40.342876 -3.688974         0         20       6   \n",
       "\n",
       "       education  \n",
       "id                \n",
       "21742          3  "
      ]
     },
     "execution_count": 9,
     "metadata": {},
     "output_type": "execute_result"
    }
   ],
   "source": [
    "#df_ml = df_ml.drop(columns=[\"Unnamed: 0\",\"Unnamed: 0.1\",\"id\",])\n",
    "df_ml.head(1)"
   ]
  },
  {
   "cell_type": "code",
   "execution_count": 4,
   "metadata": {},
   "outputs": [
    {
     "ename": "NameError",
     "evalue": "name 'plt' is not defined",
     "output_type": "error",
     "traceback": [
      "\u001b[0;31m---------------------------------------------------------------------------\u001b[0m",
      "\u001b[0;31mNameError\u001b[0m                                 Traceback (most recent call last)",
      "\u001b[0;32m<ipython-input-4-53ecf3686522>\u001b[0m in \u001b[0;36m<module>\u001b[0;34m\u001b[0m\n\u001b[1;32m      1\u001b[0m \u001b[0mcorr_matrix\u001b[0m \u001b[0;34m=\u001b[0m \u001b[0mdf_ml\u001b[0m\u001b[0;34m.\u001b[0m\u001b[0mcorr\u001b[0m\u001b[0;34m(\u001b[0m\u001b[0;34m)\u001b[0m\u001b[0;34m\u001b[0m\u001b[0;34m\u001b[0m\u001b[0m\n\u001b[0;32m----> 2\u001b[0;31m \u001b[0mplt\u001b[0m\u001b[0;34m.\u001b[0m\u001b[0mfigure\u001b[0m\u001b[0;34m(\u001b[0m\u001b[0mfigsize\u001b[0m\u001b[0;34m=\u001b[0m\u001b[0;34m(\u001b[0m\u001b[0;36m12\u001b[0m\u001b[0;34m,\u001b[0m\u001b[0;36m7\u001b[0m\u001b[0;34m)\u001b[0m\u001b[0;34m)\u001b[0m\u001b[0;34m\u001b[0m\u001b[0;34m\u001b[0m\u001b[0m\n\u001b[0m\u001b[1;32m      3\u001b[0m \u001b[0msns\u001b[0m\u001b[0;34m.\u001b[0m\u001b[0mheatmap\u001b[0m\u001b[0;34m(\u001b[0m\u001b[0mcorr_matrix\u001b[0m\u001b[0;34m,\u001b[0m \u001b[0mannot\u001b[0m \u001b[0;34m=\u001b[0m \u001b[0;32mTrue\u001b[0m\u001b[0;34m,\u001b[0m \u001b[0mlinewidth\u001b[0m \u001b[0;34m=\u001b[0m \u001b[0;36m0.5\u001b[0m\u001b[0;34m)\u001b[0m\u001b[0;34m\u001b[0m\u001b[0;34m\u001b[0m\u001b[0m\n",
      "\u001b[0;31mNameError\u001b[0m: name 'plt' is not defined"
     ]
    }
   ],
   "source": [
    "corr_matrix = df_ml.corr()\n",
    "plt.figure(figsize=(12,7))\n",
    "sns.heatmap(corr_matrix, annot = True, linewidth = 0.5)"
   ]
  },
  {
   "cell_type": "markdown",
   "metadata": {},
   "source": [
    "### Select and train a model"
   ]
  },
  {
   "cell_type": "markdown",
   "metadata": {},
   "source": [
    "Note : Logistic Regression and Tree based algorithms such as Decision Tree, Random forest and gradient boosting, are not sensitive to the magnitude of variables. So standardization is not needed before fitting this kind of models."
   ]
  },
  {
   "cell_type": "code",
   "execution_count": 10,
   "metadata": {},
   "outputs": [],
   "source": [
    "X = df_ml.drop(\"buy_price\", axis=1) \n",
    "y = df_ml[\"buy_price\"].copy()"
   ]
  },
  {
   "cell_type": "markdown",
   "metadata": {},
   "source": [
    "Se estandariza y se divide el dataframe en entrenamiento y test."
   ]
  },
  {
   "cell_type": "code",
   "execution_count": 7,
   "metadata": {},
   "outputs": [],
   "source": [
    "from sklearn import preprocessing\n",
    "from sklearn.preprocessing import StandardScaler\n",
    "from sklearn.model_selection import train_test_split\n",
    "\n",
    "min_max_scaler = preprocessing.MinMaxScaler()\n",
    "X_scaled =min_max_scaler.fit_transform(X)\n",
    "X_train, X_test, y_train, y_test = train_test_split(X_scaled, y, test_size=0.2)"
   ]
  },
  {
   "cell_type": "code",
   "execution_count": 8,
   "metadata": {},
   "outputs": [],
   "source": [
    "from sklearn.ensemble import RandomForestRegressor, BaggingRegressor, AdaBoostRegressor, ExtraTreesRegressor\n",
    "from sklearn.experimental import enable_hist_gradient_boosting\n",
    "from sklearn.ensemble import HistGradientBoostingRegressor\n",
    "from sklearn.linear_model import LinearRegression, Ridge, Lasso, RidgeCV, ElasticNet\n",
    "from sklearn.tree import DecisionTreeRegressor\n",
    "from sklearn.neighbors import KNeighborsRegressor\n",
    "from sklearn.ensemble import GradientBoostingRegressor\n",
    "from sklearn.metrics import mean_squared_error\n",
    "from sklearn.model_selection import cross_val_score\n"
   ]
  },
  {
   "cell_type": "code",
   "execution_count": 9,
   "metadata": {},
   "outputs": [],
   "source": [
    "models = {\n",
    "    \"forest\" : RandomForestRegressor(),\n",
    "    \"bagging\": BaggingRegressor(),\n",
    "    \"ada\": AdaBoostRegressor(),\n",
    "    \"extraTree\": ExtraTreesRegressor(),\n",
    "    \"histGrad\": HistGradientBoostingRegressor(),\n",
    "    \"linear_reg\": LinearRegression(),\n",
    "    \"ridge\": Ridge(),\n",
    "    \"lasso\": Lasso(),\n",
    "    \"ridgeCV\": RidgeCV(),\n",
    "    \"elasticnet\": ElasticNet(),    \n",
    "    \"tree\" : DecisionTreeRegressor(),\n",
    "    \"neighbors_reg\": KNeighborsRegressor(),  \n",
    "    \"gradient\": GradientBoostingRegressor()\n",
    "}"
   ]
  },
  {
   "cell_type": "code",
   "execution_count": 10,
   "metadata": {},
   "outputs": [
    {
     "name": "stdout",
     "output_type": "stream",
     "text": [
      "-------forest-------\n",
      "Entrenando forest\n",
      "RMSE 38782.56\n",
      "forest accuracy 0.9933522624777374\n",
      "-------bagging-------\n",
      "Entrenando bagging\n",
      "RMSE 38794.12\n",
      "bagging accuracy 0.9916127921825332\n",
      "-------ada-------\n",
      "Entrenando ada\n",
      "RMSE 220016.4\n",
      "ada accuracy -0.5305905068140893\n",
      "-------extraTree-------\n",
      "Entrenando extraTree\n",
      "RMSE 32490.03\n",
      "extraTree accuracy 0.9941468440510824\n",
      "-------histGrad-------\n",
      "Entrenando histGrad\n",
      "RMSE 50986.19\n",
      "histGrad accuracy 0.9886719268171268\n",
      "-------linear_reg-------\n",
      "Entrenando linear_reg\n",
      "RMSE 152913.57\n",
      "linear_reg accuracy 0.6982625862453029\n",
      "-------ridge-------\n",
      "Entrenando ridge\n",
      "RMSE 153386.58\n",
      "ridge accuracy 0.6982962716684901\n",
      "-------lasso-------\n",
      "Entrenando lasso\n",
      "RMSE 152914.44\n",
      "lasso accuracy 0.6982757091185552\n",
      "-------ridgeCV-------\n",
      "Entrenando ridgeCV\n",
      "RMSE 152945.57\n",
      "ridgeCV accuracy 0.6985967364157506\n",
      "-------elasticnet-------\n",
      "Entrenando elasticnet\n",
      "RMSE 463427.77\n",
      "elasticnet accuracy 0.7110357235131841\n",
      "-------tree-------\n",
      "Entrenando tree\n",
      "RMSE 51542.23\n",
      "tree accuracy 0.9854574197072903\n",
      "-------neighbors_reg-------\n",
      "Entrenando neighbors_reg\n",
      "RMSE 181823.53\n",
      "neighbors_reg accuracy 0.9475241513791479\n",
      "-------gradient-------\n",
      "Entrenando gradient\n",
      "RMSE 31595.59\n",
      "gradient accuracy 0.9891528114046662\n",
      "Finalizado\n"
     ]
    }
   ],
   "source": [
    "for name, model in models.items():\n",
    "    print(f\"-------{name}-------\")\n",
    "    print(f\"Entrenando {name}\")\n",
    "    model.fit(X_train, y_train)\n",
    "    y_pred = model.predict(X_test)\n",
    "    print (\"RMSE\", round(np.sqrt(mean_squared_error(y_test,y_pred)),2))\n",
    "    scores = cross_val_score(model,X,y, cv=10, n_jobs=-1)\n",
    "    print(f\"{name} accuracy {np.mean(scores)}\")\n",
    "print(\"Finalizado\")"
   ]
  },
  {
   "cell_type": "markdown",
   "metadata": {},
   "source": [
    "Nos quedamos con los modelos más precisos:bagging, gradient, extra tree y random forest"
   ]
  },
  {
   "cell_type": "markdown",
   "metadata": {},
   "source": [
    "##### Bagging"
   ]
  },
  {
   "cell_type": "code",
   "execution_count": 84,
   "metadata": {},
   "outputs": [
    {
     "name": "stdout",
     "output_type": "stream",
     "text": [
      "RMSE 36480.66\n",
      "accuracy 0.9886425527696417\n",
      "Finalizado\n"
     ]
    }
   ],
   "source": [
    "model = BaggingRegressor().fit(X_train, y_train)\n",
    "y_pred_bagging = model.predict(X_test)\n",
    "print (\"RMSE\", round(np.sqrt(mean_squared_error(y_test,y_pred_bagging)),2))\n",
    "scores = cross_val_score(model,X,y, cv=10, n_jobs=-1)\n",
    "print(f\"accuracy {np.mean(scores)}\")\n",
    "print(\"Finalizado\")"
   ]
  },
  {
   "cell_type": "code",
   "execution_count": 99,
   "metadata": {},
   "outputs": [
    {
     "data": {
      "text/plain": [
       "Text(0.5, 1.0, 'RandomForestRegressor')"
      ]
     },
     "execution_count": 99,
     "metadata": {},
     "output_type": "execute_result"
    },
    {
     "data": {
      "image/png": "[encoded data removed]",
      "text/plain": [
       "<Figure size 576x576 with 1 Axes>"
      ]
     },
     "metadata": {
      "needs_background": "light"
     },
     "output_type": "display_data"
    }
   ],
   "source": [
    "import matplotlib.pyplot as plt\n",
    "\n",
    "fig, ax = plt.subplots(figsize=(8,8))\n",
    "ax.scatter(y_pred_bagging, y_test, color=\"g\")\n",
    "ax.plot([y_test.min(), y_test.max()], [y_test.min(), y_test.max()], 'k--', lw=4)\n",
    "ax.set_xlabel('Test Price')\n",
    "ax.set_ylabel('Predicted Price')\n",
    "ax.set_title(\"Bagging\")"
   ]
  },
  {
   "cell_type": "markdown",
   "metadata": {},
   "source": [
    "#### Gradient Boosting"
   ]
  },
  {
   "cell_type": "code",
   "execution_count": 86,
   "metadata": {},
   "outputs": [
    {
     "name": "stdout",
     "output_type": "stream",
     "text": [
      "RMSE 32256.6\n",
      "accuracy 0.9872915756632372\n",
      "Finalizado\n"
     ]
    }
   ],
   "source": [
    "model = GradientBoostingRegressor().fit(X_train, y_train)\n",
    "y_pred_boost = model.predict(X_test)\n",
    "print (\"RMSE\", round(np.sqrt(mean_squared_error(y_test,y_pred_boost)),2))\n",
    "scores = cross_val_score(model,X,y, cv=10, n_jobs=-1)\n",
    "print(f\"accuracy {np.mean(scores)}\")\n",
    "print(\"Finalizado\")"
   ]
  },
  {
   "cell_type": "code",
   "execution_count": 96,
   "metadata": {},
   "outputs": [
    {
     "data": {
      "text/plain": [
       "Text(0.5, 1.0, 'RandomForestRegressor')"
      ]
     },
     "execution_count": 96,
     "metadata": {},
     "output_type": "execute_result"
    },
    {
     "data": {
      "image/png": "[encoded data removed]",
      "text/plain": [
       "<Figure size 576x576 with 1 Axes>"
      ]
     },
     "metadata": {
      "needs_background": "light"
     },
     "output_type": "display_data"
    }
   ],
   "source": [
    "import matplotlib.pyplot as plt\n",
    "\n",
    "fig, ax = plt.subplots(figsize=(8,8))\n",
    "ax.scatter(y_pred_boost, y_test, color=\"g\")\n",
    "ax.plot([y_test.min(), y_test.max()], [y_test.min(), y_test.max()], 'k--', lw=4)\n",
    "ax.set_xlabel('Test Price')\n",
    "ax.set_ylabel('Predicted Price')\n",
    "ax.set_title(\"Gradient Boosting\")"
   ]
  },
  {
   "cell_type": "markdown",
   "metadata": {},
   "source": [
    "##### Ramdom Forest"
   ]
  },
  {
   "cell_type": "code",
   "execution_count": 93,
   "metadata": {},
   "outputs": [
    {
     "name": "stdout",
     "output_type": "stream",
     "text": [
      "RMSE 37753.7\n",
      "accuracy 0.9908210405034463\n",
      "Finalizado\n"
     ]
    }
   ],
   "source": [
    "model = RandomForestRegressor().fit(X_train, y_train)\n",
    "y_pred_rdmf = model.predict(X_test)\n",
    "print (\"RMSE\", round(np.sqrt(mean_squared_error(y_test,y_pred_rdmf)),2))\n",
    "scores = cross_val_score(model,X,y, cv=10, n_jobs=-1)\n",
    "print(f\"accuracy {np.mean(scores)}\")\n",
    "print(\"Finalizado\")"
   ]
  },
  {
   "cell_type": "code",
   "execution_count": 94,
   "metadata": {},
   "outputs": [
    {
     "data": {
      "text/plain": [
       "Text(0.5, 1.0, 'RandomForestRegressor')"
      ]
     },
     "execution_count": 94,
     "metadata": {},
     "output_type": "execute_result"
    },
    {
     "data": {
      "image/png": "[encoded data removed]",
      "text/plain": [
       "<Figure size 576x576 with 1 Axes>"
      ]
     },
     "metadata": {
      "needs_background": "light"
     },
     "output_type": "display_data"
    }
   ],
   "source": [
    "import matplotlib.pyplot as plt\n",
    "\n",
    "fig, ax = plt.subplots(figsize=(8,8))\n",
    "ax.scatter(y_pred_rdmf, y_test, color=\"g\")\n",
    "ax.plot([y_test.min(), y_test.max()], [y_test.min(), y_test.max()], 'k--', lw=4)\n",
    "ax.set_xlabel('Test Price')\n",
    "ax.set_ylabel('Predicted Price')\n",
    "ax.set_title(\"RandomForestRegressor\")"
   ]
  },
  {
   "cell_type": "markdown",
   "metadata": {},
   "source": [
    "##### Extra Trees Regressor"
   ]
  },
  {
   "cell_type": "code",
   "execution_count": 56,
   "metadata": {
    "scrolled": true
   },
   "outputs": [
    {
     "name": "stdout",
     "output_type": "stream",
     "text": [
      "RMSE 32791.06\n",
      "accuracy 0.9939093882402037\n",
      "Finalizado\n"
     ]
    }
   ],
   "source": [
    "model = ExtraTreesRegressor().fit(X_train, y_train)\n",
    "y_pred_extra = model.predict(X_test)\n",
    "print (\"RMSE\", round(np.sqrt(mean_squared_error(y_test,y_pred_extra)),2))\n",
    "scores = cross_val_score(model,X,y, cv=10, n_jobs=-1)\n",
    "print(f\"accuracy {np.mean(scores)}\")\n",
    "print(\"Finalizado\")"
   ]
  },
  {
   "cell_type": "code",
   "execution_count": 57,
   "metadata": {},
   "outputs": [
    {
     "data": {
      "text/plain": [
       "Text(0.5, 1.0, 'ExtraTreesRegressor')"
      ]
     },
     "execution_count": 57,
     "metadata": {},
     "output_type": "execute_result"
    },
    {
     "data": {
      "image/png": "[encoded data removed]",
      "text/plain": [
       "<Figure size 576x576 with 1 Axes>"
      ]
     },
     "metadata": {
      "needs_background": "light"
     },
     "output_type": "display_data"
    }
   ],
   "source": [
    "import matplotlib.pyplot as plt\n",
    "\n",
    "fig, ax = plt.subplots(figsize=(8,8))\n",
    "ax.scatter(y_pred_extra, y_test, color=\"g\")\n",
    "ax.plot([y_test.min(), y_test.max()], [y_test.min(), y_test.max()], 'k--', lw=4)\n",
    "ax.set_xlabel('Test Price')\n",
    "ax.set_ylabel('Predicted Price')\n",
    "ax.set_title(\"ExtraTreesRegressor\")"
   ]
  },
  {
   "cell_type": "markdown",
   "metadata": {},
   "source": [
    "## ajuste"
   ]
  },
  {
   "cell_type": "code",
   "execution_count": 6,
   "metadata": {},
   "outputs": [
    {
     "ename": "NameError",
     "evalue": "name 'ExtraTreesRegressor' is not defined",
     "output_type": "error",
     "traceback": [
      "\u001b[0;31m---------------------------------------------------------------------------\u001b[0m",
      "\u001b[0;31mNameError\u001b[0m                                 Traceback (most recent call last)",
      "\u001b[0;32m<ipython-input-6-07e234552bb0>\u001b[0m in \u001b[0;36m<module>\u001b[0;34m\u001b[0m\n\u001b[1;32m      7\u001b[0m               }\n\u001b[1;32m      8\u001b[0m \u001b[0;34m\u001b[0m\u001b[0m\n\u001b[0;32m----> 9\u001b[0;31m \u001b[0mrfc\u001b[0m \u001b[0;34m=\u001b[0m \u001b[0mExtraTreesRegressor\u001b[0m\u001b[0;34m(\u001b[0m\u001b[0;34m)\u001b[0m\u001b[0;34m\u001b[0m\u001b[0;34m\u001b[0m\u001b[0m\n\u001b[0m\u001b[1;32m     10\u001b[0m \u001b[0mgrid\u001b[0m \u001b[0;34m=\u001b[0m \u001b[0mGridSearchCV\u001b[0m\u001b[0;34m(\u001b[0m\u001b[0mrfc\u001b[0m\u001b[0;34m,\u001b[0m \u001b[0mparameters\u001b[0m\u001b[0;34m,\u001b[0m \u001b[0mverbose\u001b[0m\u001b[0;34m=\u001b[0m\u001b[0;36m1\u001b[0m\u001b[0;34m,\u001b[0m \u001b[0mn_jobs\u001b[0m\u001b[0;34m=\u001b[0m\u001b[0;34m-\u001b[0m\u001b[0;36m1\u001b[0m\u001b[0;34m,\u001b[0m \u001b[0mcv\u001b[0m\u001b[0;34m=\u001b[0m\u001b[0;36m5\u001b[0m\u001b[0;34m)\u001b[0m\u001b[0;34m\u001b[0m\u001b[0;34m\u001b[0m\u001b[0m\n\u001b[1;32m     11\u001b[0m \u001b[0mgrid\u001b[0m\u001b[0;34m.\u001b[0m\u001b[0mfit\u001b[0m\u001b[0;34m(\u001b[0m\u001b[0mX_train\u001b[0m\u001b[0;34m,\u001b[0m\u001b[0my_train\u001b[0m\u001b[0;34m)\u001b[0m\u001b[0;34m\u001b[0m\u001b[0;34m\u001b[0m\u001b[0m\n",
      "\u001b[0;31mNameError\u001b[0m: name 'ExtraTreesRegressor' is not defined"
     ]
    }
   ],
   "source": [
    "from sklearn.model_selection import GridSearchCV\n",
    "\n",
    "parameters = {'max_depth': [10, 20, 40, 60, 80, 100],\n",
    "              'max_features': [0, 5, 10],\n",
    "              'min_samples_leaf': [10, 20, 30],\n",
    "              'min_samples_split': [10, 15, 20]\n",
    "              }\n",
    "\n",
    "rfc = ExtraTreesRegressor()\n",
    "grid = GridSearchCV(rfc, parameters, verbose=1, n_jobs=-1, cv=5)\n",
    "grid.fit(X_train,y_train)"
   ]
  },
  {
   "cell_type": "code",
   "execution_count": 15,
   "metadata": {},
   "outputs": [
    {
     "name": "stdout",
     "output_type": "stream",
     "text": [
      "{'max_depth': 80, 'max_features': 10, 'min_samples_leaf': 10, 'min_samples_split': 20}\n"
     ]
    }
   ],
   "source": [
    "print(grid.best_params_)"
   ]
  },
  {
   "cell_type": "markdown",
   "metadata": {},
   "source": [
    "### Modelo elegido : ExtraTreesRegressor"
   ]
  },
  {
   "cell_type": "code",
   "execution_count": 11,
   "metadata": {},
   "outputs": [],
   "source": [
    "final_model = ExtraTreesRegressor(max_depth=80,max_features=10,min_samples_leaf=10,min_samples_split=20).fit(X, y)"
   ]
  },
  {
   "cell_type": "markdown",
   "metadata": {},
   "source": [
    "Salvamos el modelo para poder usarlo posteriormente"
   ]
  },
  {
   "cell_type": "code",
   "execution_count": 12,
   "metadata": {},
   "outputs": [],
   "source": [
    "import pickle\n",
    "filename = '111ExtraTrees_model.sav'\n",
    "pickle.dump(final_model, open(filename, 'wb'))"
   ]
  },
  {
   "cell_type": "code",
   "execution_count": 6,
   "metadata": {},
   "outputs": [
    {
     "name": "stdout",
     "output_type": "stream",
     "text": [
      "4.0\n"
     ]
    }
   ],
   "source": [
    "import pickle\n",
    "print(pickle.format_version)"
   ]
  },
  {
   "cell_type": "code",
   "execution_count": 119,
   "metadata": {},
   "outputs": [
    {
     "data": {
      "text/html": [
       "<div>\n",
       "<style scoped>\n",
       "    .dataframe tbody tr th:only-of-type {\n",
       "        vertical-align: middle;\n",
       "    }\n",
       "\n",
       "    .dataframe tbody tr th {\n",
       "        vertical-align: top;\n",
       "    }\n",
       "\n",
       "    .dataframe thead th {\n",
       "        text-align: right;\n",
       "    }\n",
       "</style>\n",
       "<table border=\"1\" class=\"dataframe\">\n",
       "  <thead>\n",
       "    <tr style=\"text-align: right;\">\n",
       "      <th></th>\n",
       "      <th>sq_mt_built</th>\n",
       "      <th>n_rooms</th>\n",
       "      <th>n_bathrooms</th>\n",
       "      <th>floor</th>\n",
       "      <th>buy_price</th>\n",
       "      <th>buy_price_by_area</th>\n",
       "      <th>is_renewal_needed</th>\n",
       "      <th>is_new_development</th>\n",
       "      <th>has_lift</th>\n",
       "      <th>is_exterior</th>\n",
       "      <th>has_parking</th>\n",
       "      <th>lat</th>\n",
       "      <th>long</th>\n",
       "      <th>security</th>\n",
       "      <th>transport</th>\n",
       "      <th>health</th>\n",
       "      <th>education</th>\n",
       "    </tr>\n",
       "    <tr>\n",
       "      <th>id</th>\n",
       "      <th></th>\n",
       "      <th></th>\n",
       "      <th></th>\n",
       "      <th></th>\n",
       "      <th></th>\n",
       "      <th></th>\n",
       "      <th></th>\n",
       "      <th></th>\n",
       "      <th></th>\n",
       "      <th></th>\n",
       "      <th></th>\n",
       "      <th></th>\n",
       "      <th></th>\n",
       "      <th></th>\n",
       "      <th></th>\n",
       "      <th></th>\n",
       "      <th></th>\n",
       "    </tr>\n",
       "  </thead>\n",
       "  <tbody>\n",
       "    <tr>\n",
       "      <th>21742</th>\n",
       "      <td>64</td>\n",
       "      <td>2</td>\n",
       "      <td>1</td>\n",
       "      <td>3</td>\n",
       "      <td>85000</td>\n",
       "      <td>1328</td>\n",
       "      <td>0</td>\n",
       "      <td>0</td>\n",
       "      <td>0</td>\n",
       "      <td>1</td>\n",
       "      <td>0</td>\n",
       "      <td>40.342876</td>\n",
       "      <td>-3.688974</td>\n",
       "      <td>0</td>\n",
       "      <td>20</td>\n",
       "      <td>6</td>\n",
       "      <td>3</td>\n",
       "    </tr>\n",
       "  </tbody>\n",
       "</table>\n",
       "</div>"
      ],
      "text/plain": [
       "       sq_mt_built  n_rooms  n_bathrooms  floor  buy_price  buy_price_by_area  \\\n",
       "id                                                                              \n",
       "21742           64        2            1      3      85000               1328   \n",
       "\n",
       "       is_renewal_needed  is_new_development  has_lift  is_exterior  \\\n",
       "id                                                                    \n",
       "21742                  0                   0         0            1   \n",
       "\n",
       "       has_parking        lat      long  security  transport  health  \\\n",
       "id                                                                     \n",
       "21742            0  40.342876 -3.688974         0         20       6   \n",
       "\n",
       "       education  \n",
       "id                \n",
       "21742          3  "
      ]
     },
     "execution_count": 119,
     "metadata": {},
     "output_type": "execute_result"
    }
   ],
   "source": [
    "df_ml.head(1)"
   ]
  },
  {
   "cell_type": "code",
   "execution_count": 125,
   "metadata": {},
   "outputs": [],
   "source": [
    "#https://www.idealista.com/inmueble/90918731/ - 330.000€\n",
    "#https://www.idealista.com/inmueble/88491902/ - 399.000€\n",
    "#https://www.idealista.com/inmueble/91329158/ - 170.000€\n",
    "\n",
    "input1 = np.array([[101, 2, 2, 1, 3292, 0,0,1,1,0, 40.404778, -3.693936,0,87,16,1],\n",
    "                  [110, 3, 2, 2, 3292, 0,0,1,1,0, 40.404778, -3.693936,0,87,16,1],\n",
    "                  [40, 2, 1, 1, 3292, 0,0,0,1,0, 40.402373, -3.7139,0,87,16,1]])"
   ]
  },
  {
   "cell_type": "code",
   "execution_count": 113,
   "metadata": {},
   "outputs": [],
   "source": [
    "#min_max_scaler = preprocessing.MinMaxScaler()\n",
    "#input1_scaled =min_max_scaler.fit_transform(input1)"
   ]
  },
  {
   "cell_type": "code",
   "execution_count": 114,
   "metadata": {},
   "outputs": [],
   "source": [
    "estimacion = final_model.predict(input1)"
   ]
  },
  {
   "cell_type": "code",
   "execution_count": 115,
   "metadata": {},
   "outputs": [
    {
     "data": {
      "text/plain": [
       "array([329853.17040978, 369872.08381705, 150034.39533565])"
      ]
     },
     "execution_count": 115,
     "metadata": {},
     "output_type": "execute_result"
    }
   ],
   "source": [
    "estimacion"
   ]
  },
  {
   "cell_type": "markdown",
   "metadata": {},
   "source": [
    "Quitando las columnas security transport health y education para calcular el impacto en la predicción"
   ]
  },
  {
   "cell_type": "code",
   "execution_count": 121,
   "metadata": {},
   "outputs": [],
   "source": [
    "prueba = X.drop(columns=[\"security\",\"transport\",\"health\",\"education\"])"
   ]
  },
  {
   "cell_type": "code",
   "execution_count": 131,
   "metadata": {},
   "outputs": [],
   "source": [
    "dffinal_model = ExtraTreesRegressor(max_depth=80,max_features=10,min_samples_leaf=10,min_samples_split=20).fit(prueba, y)"
   ]
  },
  {
   "cell_type": "code",
   "execution_count": 132,
   "metadata": {},
   "outputs": [
    {
     "data": {
      "text/plain": [
       "array([331738.66511056, 360522.11511032, 146647.34005266])"
      ]
     },
     "execution_count": 132,
     "metadata": {},
     "output_type": "execute_result"
    }
   ],
   "source": [
    "inputs = np.array([[101, 2, 2, 1, 3292, 0,0,1,1,0, 40.404778, -3.693936],\n",
    "                  [110, 3, 2, 2, 3292, 0,0,1,1,0, 40.404778, -3.693936],\n",
    "                  [40, 2, 1, 1, 3292, 0,0,0,1,0, 40.402373, -3.7139]])\n",
    "\n",
    "\n",
    "dffinal_model.predict(inputs)"
   ]
  },
  {
   "cell_type": "code",
   "execution_count": null,
   "metadata": {},
   "outputs": [],
   "source": []
  },
  {
   "cell_type": "code",
   "execution_count": null,
   "metadata": {},
   "outputs": [],
   "source": []
  }
 ],
 "metadata": {
  "kernelspec": {
   "display_name": "Python 3.8.2 64-bit",
   "language": "python",
   "name": "python38264bit3a22b570bd23458b8e92266f1aba7923"
  },
  "language_info": {
   "codemirror_mode": {
    "name": "ipython",
    "version": 3
   },
   "file_extension": ".py",
   "mimetype": "text/x-python",
   "name": "python",
   "nbconvert_exporter": "python",
   "pygments_lexer": "ipython3",
   "version": "3.8.5"
  }
 },
 "nbformat": 4,
 "nbformat_minor": 4
}
