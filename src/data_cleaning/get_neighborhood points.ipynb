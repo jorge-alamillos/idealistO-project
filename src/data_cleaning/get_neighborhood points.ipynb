{
 "cells": [
  {
   "cell_type": "markdown",
   "metadata": {},
   "source": [
    "### El objetivo de este Jupyter es encontrar las cordenadas  de los pisos más cercanos a la dirección que se incluya. Estas funciones son finalmente incluidas en el fichero \"get_address_neigh.py\"."
   ]
  },
  {
   "cell_type": "code",
   "execution_count": 3,
   "metadata": {},
   "outputs": [],
   "source": [
    "from dotenv import load_dotenv\n",
    "import requests\n",
    "load_dotenv()\n",
    "import os\n",
    "import geopandas as gpd\n",
    "import pandas as pd\n",
    "import fiona"
   ]
  },
  {
   "cell_type": "code",
   "execution_count": 4,
   "metadata": {},
   "outputs": [],
   "source": [
    "def get_coordinates(address):\n",
    "    key = os.getenv('GOOGLEAUTH')\n",
    "    url = 'https://maps.googleapis.com/maps/api/geocode/json?address='\n",
    "    rqst  = requests.get(url + address + '&key=' + key)    \n",
    "    datos = rqst.json()\n",
    "    location = datos['results'][0]['geometry']['location']\n",
    "    print(url + address + '&key=' + key)\n",
    "    return location\n"
   ]
  },
  {
   "cell_type": "code",
   "execution_count": null,
   "metadata": {},
   "outputs": [],
   "source": [
    "x = get_coordinates(\"calle de gargantilla madrid\")\n",
    "x"
   ]
  },
  {
   "cell_type": "code",
   "execution_count": 25,
   "metadata": {},
   "outputs": [
    {
     "data": {
      "text/plain": [
       "40.3988018"
      ]
     },
     "execution_count": 25,
     "metadata": {},
     "output_type": "execute_result"
    }
   ],
   "source": [
    "x[\"lat\"]"
   ]
  },
  {
   "cell_type": "code",
   "execution_count": 6,
   "metadata": {},
   "outputs": [],
   "source": [
    "df = gpd.GeoDataFrame({'lat': [x[\"lat\"]], 'lng': [x[\"lng\"]]})"
   ]
  },
  {
   "cell_type": "code",
   "execution_count": 7,
   "metadata": {},
   "outputs": [],
   "source": [
    "#Crear GeoDataFrame a partir de un DataFrame con coordenadas\n",
    "gdf = gpd.GeoDataFrame(\n",
    "    df, geometry=gpd.points_from_xy(df.lng, df.lat),crs=\"EPSG:4326\")\n",
    "gdf = gdf.to_crs(\"EPSG:4326\")"
   ]
  },
  {
   "cell_type": "code",
   "execution_count": 8,
   "metadata": {},
   "outputs": [
    {
     "name": "stdout",
     "output_type": "stream",
     "text": [
      "Nuevo CRS:  EPSG:4326\n"
     ]
    }
   ],
   "source": [
    "print('Nuevo CRS: ',gdf.crs)"
   ]
  },
  {
   "cell_type": "code",
   "execution_count": 9,
   "metadata": {},
   "outputs": [
    {
     "name": "stdout",
     "output_type": "stream",
     "text": [
      "Nuevo CRS:  EPSG:4326\n"
     ]
    }
   ],
   "source": [
    "barrios = gpd.read_file(\"BARRIOS.shp\")\n",
    "barrios = barrios.to_crs(\"EPSG:4326\")\n",
    "print('Nuevo CRS: ',barrios.crs)"
   ]
  },
  {
   "cell_type": "code",
   "execution_count": 10,
   "metadata": {},
   "outputs": [
    {
     "ename": "NameError",
     "evalue": "name 'barrios_gdf' is not defined",
     "output_type": "error",
     "traceback": [
      "\u001b[0;31m---------------------------------------------------------------------------\u001b[0m",
      "\u001b[0;31mNameError\u001b[0m                                 Traceback (most recent call last)",
      "\u001b[0;32m<ipython-input-10-815ee2808841>\u001b[0m in \u001b[0;36m<module>\u001b[0;34m\u001b[0m\n\u001b[0;32m----> 1\u001b[0;31m \u001b[0mbarrios_gdf\u001b[0m\u001b[0;34m.\u001b[0m\u001b[0mhead\u001b[0m\u001b[0;34m(\u001b[0m\u001b[0;36m1\u001b[0m\u001b[0;34m)\u001b[0m\u001b[0;34m\u001b[0m\u001b[0;34m\u001b[0m\u001b[0m\n\u001b[0m",
      "\u001b[0;31mNameError\u001b[0m: name 'barrios_gdf' is not defined"
     ]
    }
   ],
   "source": [
    "barrios_gdf.head(1)\n"
   ]
  },
  {
   "cell_type": "code",
   "execution_count": 11,
   "metadata": {
    "scrolled": true
   },
   "outputs": [],
   "source": [
    "barrio_loc = gpd.sjoin(gdf, barrios, how=\"left\", op='within')"
   ]
  },
  {
   "cell_type": "code",
   "execution_count": 12,
   "metadata": {},
   "outputs": [
    {
     "data": {
      "text/html": [
       "<div>\n",
       "<style scoped>\n",
       "    .dataframe tbody tr th:only-of-type {\n",
       "        vertical-align: middle;\n",
       "    }\n",
       "\n",
       "    .dataframe tbody tr th {\n",
       "        vertical-align: top;\n",
       "    }\n",
       "\n",
       "    .dataframe thead th {\n",
       "        text-align: right;\n",
       "    }\n",
       "</style>\n",
       "<table border=\"1\" class=\"dataframe\">\n",
       "  <thead>\n",
       "    <tr style=\"text-align: right;\">\n",
       "      <th></th>\n",
       "      <th>lat</th>\n",
       "      <th>lng</th>\n",
       "      <th>geometry</th>\n",
       "      <th>index_right</th>\n",
       "      <th>OBJECTID</th>\n",
       "      <th>geodb_oid</th>\n",
       "      <th>CODDIS</th>\n",
       "      <th>NOMDIS</th>\n",
       "      <th>CODBAR</th>\n",
       "      <th>CODDISTRIT</th>\n",
       "      <th>CODBARRIO</th>\n",
       "      <th>NOMBRE</th>\n",
       "      <th>ORIG_FID</th>\n",
       "    </tr>\n",
       "  </thead>\n",
       "  <tbody>\n",
       "    <tr>\n",
       "      <th>0</th>\n",
       "      <td>40.398802</td>\n",
       "      <td>-3.70408</td>\n",
       "      <td>POINT (-3.70408 40.39880)</td>\n",
       "      <td>39</td>\n",
       "      <td>8</td>\n",
       "      <td>8</td>\n",
       "      <td>02</td>\n",
       "      <td>Arganzuela</td>\n",
       "      <td>022</td>\n",
       "      <td>02</td>\n",
       "      <td>2-2</td>\n",
       "      <td>Acacias</td>\n",
       "      <td>7</td>\n",
       "    </tr>\n",
       "  </tbody>\n",
       "</table>\n",
       "</div>"
      ],
      "text/plain": [
       "         lat      lng                   geometry  index_right  OBJECTID  \\\n",
       "0  40.398802 -3.70408  POINT (-3.70408 40.39880)           39         8   \n",
       "\n",
       "   geodb_oid CODDIS      NOMDIS CODBAR CODDISTRIT CODBARRIO   NOMBRE  ORIG_FID  \n",
       "0          8     02  Arganzuela    022         02       2-2  Acacias         7  "
      ]
     },
     "execution_count": 12,
     "metadata": {},
     "output_type": "execute_result"
    }
   ],
   "source": [
    "barrio_loc"
   ]
  },
  {
   "cell_type": "code",
   "execution_count": 13,
   "metadata": {
    "scrolled": false
   },
   "outputs": [
    {
     "data": {
      "text/plain": [
       "'Acacias'"
      ]
     },
     "execution_count": 13,
     "metadata": {},
     "output_type": "execute_result"
    }
   ],
   "source": [
    "distrito = barrio_loc[\"NOMBRE\"].to_string(index=False).lstrip()\n",
    "distrito"
   ]
  },
  {
   "cell_type": "code",
   "execution_count": 21,
   "metadata": {},
   "outputs": [],
   "source": [
    "x = pd.read_csv(\"barrios_puntuaciones.csv\")\n",
    "#x =x.drop_duplicates(subset=[\"NOMBRE\"])"
   ]
  },
  {
   "cell_type": "code",
   "execution_count": 22,
   "metadata": {},
   "outputs": [
    {
     "data": {
      "text/html": [
       "<div>\n",
       "<style scoped>\n",
       "    .dataframe tbody tr th:only-of-type {\n",
       "        vertical-align: middle;\n",
       "    }\n",
       "\n",
       "    .dataframe tbody tr th {\n",
       "        vertical-align: top;\n",
       "    }\n",
       "\n",
       "    .dataframe thead th {\n",
       "        text-align: right;\n",
       "    }\n",
       "</style>\n",
       "<table border=\"1\" class=\"dataframe\">\n",
       "  <thead>\n",
       "    <tr style=\"text-align: right;\">\n",
       "      <th></th>\n",
       "      <th>Unnamed: 0</th>\n",
       "      <th>NOMDIS</th>\n",
       "      <th>CODBAR</th>\n",
       "      <th>CODDISTRIT</th>\n",
       "      <th>NOMBRE</th>\n",
       "      <th>security</th>\n",
       "      <th>transport</th>\n",
       "      <th>health</th>\n",
       "      <th>education</th>\n",
       "    </tr>\n",
       "  </thead>\n",
       "  <tbody>\n",
       "    <tr>\n",
       "      <th>112</th>\n",
       "      <td>10507</td>\n",
       "      <td>Arganzuela</td>\n",
       "      <td>022</td>\n",
       "      <td>02</td>\n",
       "      <td>Acacias</td>\n",
       "      <td>1</td>\n",
       "      <td>137</td>\n",
       "      <td>23</td>\n",
       "      <td>3</td>\n",
       "    </tr>\n",
       "  </tbody>\n",
       "</table>\n",
       "</div>"
      ],
      "text/plain": [
       "     Unnamed: 0      NOMDIS CODBAR CODDISTRIT   NOMBRE  security  transport  \\\n",
       "112       10507  Arganzuela    022         02  Acacias         1        137   \n",
       "\n",
       "     health  education  \n",
       "112      23          3  "
      ]
     },
     "execution_count": 22,
     "metadata": {},
     "output_type": "execute_result"
    }
   ],
   "source": [
    "x = x[x[\"NOMBRE\"]==distrito]\n",
    "x"
   ]
  },
  {
   "cell_type": "code",
   "execution_count": 19,
   "metadata": {},
   "outputs": [
    {
     "data": {
      "text/plain": [
       "23"
      ]
     },
     "execution_count": 19,
     "metadata": {},
     "output_type": "execute_result"
    }
   ],
   "source": [
    "int(x[\"health\"].to_string(index=False).lstrip())"
   ]
  },
  {
   "cell_type": "code",
   "execution_count": null,
   "metadata": {},
   "outputs": [],
   "source": []
  }
 ],
 "metadata": {
  "kernelspec": {
   "display_name": "Python 3",
   "language": "python",
   "name": "python3"
  },
  "language_info": {
   "codemirror_mode": {
    "name": "ipython",
    "version": 3
   },
   "file_extension": ".py",
   "mimetype": "text/x-python",
   "name": "python",
   "nbconvert_exporter": "python",
   "pygments_lexer": "ipython3",
   "version": "3.8.5"
  }
 },
 "nbformat": 4,
 "nbformat_minor": 4
}
