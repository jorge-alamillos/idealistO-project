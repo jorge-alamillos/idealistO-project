{
 "cells": [
  {
   "cell_type": "code",
   "execution_count": 20,
   "metadata": {},
   "outputs": [],
   "source": [
    "import pandas as pd\n",
    "import h2o\n",
    "from h2o.automl import H2OAutoML\n",
    "import numpy as np"
   ]
  },
  {
   "cell_type": "code",
   "execution_count": 10,
   "metadata": {
    "scrolled": false
   },
   "outputs": [],
   "source": [
    "df_ml = pd.read_csv('outputs/clean_data_with_geocoding.csv',index_col=0)\n",
    "df_ml = df_ml.drop(columns=[\"Unnamed: 0.1\",\"id\"])"
   ]
  },
  {
   "cell_type": "code",
   "execution_count": 14,
   "metadata": {},
   "outputs": [],
   "source": [
    "X = list(df_ml.drop(columns='buy_price').columns)\n",
    "y = 'buy_price'\n"
   ]
  },
  {
   "cell_type": "code",
   "execution_count": 7,
   "metadata": {
    "scrolled": true
   },
   "outputs": [
    {
     "name": "stdout",
     "output_type": "stream",
     "text": [
      "Checking whether there is an H2O instance running at http://localhost:54321 ..... not found.\n",
      "Attempting to start a local H2O server...\n",
      "  Java Version: openjdk version \"11.0.8\" 2020-07-14; OpenJDK Runtime Environment (build 11.0.8+10-post-Ubuntu-0ubuntu120.04); OpenJDK 64-Bit Server VM (build 11.0.8+10-post-Ubuntu-0ubuntu120.04, mixed mode, sharing)\n",
      "  Starting server from /home/jorge-alamillos/.local/lib/python3.8/site-packages/h2o/backend/bin/h2o.jar\n",
      "  Ice root: /tmp/tmpwsftnc_z\n",
      "  JVM stdout: /tmp/tmpwsftnc_z/h2o_jorge_alamillos_started_from_python.out\n",
      "  JVM stderr: /tmp/tmpwsftnc_z/h2o_jorge_alamillos_started_from_python.err\n",
      "  Server is running at http://127.0.0.1:54321\n",
      "Connecting to H2O server at http://127.0.0.1:54321 ... successful.\n"
     ]
    },
    {
     "data": {
      "text/html": [
       "<div style=\"overflow:auto\"><table style=\"width:50%\"><tr><td>H2O_cluster_uptime:</td>\n",
       "<td>02 secs</td></tr>\n",
       "<tr><td>H2O_cluster_timezone:</td>\n",
       "<td>Europe/Madrid</td></tr>\n",
       "<tr><td>H2O_data_parsing_timezone:</td>\n",
       "<td>UTC</td></tr>\n",
       "<tr><td>H2O_cluster_version:</td>\n",
       "<td>3.30.1.3</td></tr>\n",
       "<tr><td>H2O_cluster_version_age:</td>\n",
       "<td>13 days </td></tr>\n",
       "<tr><td>H2O_cluster_name:</td>\n",
       "<td>H2O_from_python_jorge_alamillos_i8yvm9</td></tr>\n",
       "<tr><td>H2O_cluster_total_nodes:</td>\n",
       "<td>1</td></tr>\n",
       "<tr><td>H2O_cluster_free_memory:</td>\n",
       "<td>1.906 Gb</td></tr>\n",
       "<tr><td>H2O_cluster_total_cores:</td>\n",
       "<td>4</td></tr>\n",
       "<tr><td>H2O_cluster_allowed_cores:</td>\n",
       "<td>4</td></tr>\n",
       "<tr><td>H2O_cluster_status:</td>\n",
       "<td>accepting new members, healthy</td></tr>\n",
       "<tr><td>H2O_connection_url:</td>\n",
       "<td>http://127.0.0.1:54321</td></tr>\n",
       "<tr><td>H2O_connection_proxy:</td>\n",
       "<td>{\"http\": null, \"https\": null}</td></tr>\n",
       "<tr><td>H2O_internal_security:</td>\n",
       "<td>False</td></tr>\n",
       "<tr><td>H2O_API_Extensions:</td>\n",
       "<td>Amazon S3, XGBoost, Algos, AutoML, Core V3, TargetEncoder, Core V4</td></tr>\n",
       "<tr><td>Python_version:</td>\n",
       "<td>3.8.2 final</td></tr></table></div>"
      ],
      "text/plain": [
       "--------------------------  ------------------------------------------------------------------\n",
       "H2O_cluster_uptime:         02 secs\n",
       "H2O_cluster_timezone:       Europe/Madrid\n",
       "H2O_data_parsing_timezone:  UTC\n",
       "H2O_cluster_version:        3.30.1.3\n",
       "H2O_cluster_version_age:    13 days\n",
       "H2O_cluster_name:           H2O_from_python_jorge_alamillos_i8yvm9\n",
       "H2O_cluster_total_nodes:    1\n",
       "H2O_cluster_free_memory:    1.906 Gb\n",
       "H2O_cluster_total_cores:    4\n",
       "H2O_cluster_allowed_cores:  4\n",
       "H2O_cluster_status:         accepting new members, healthy\n",
       "H2O_connection_url:         http://127.0.0.1:54321\n",
       "H2O_connection_proxy:       {\"http\": null, \"https\": null}\n",
       "H2O_internal_security:      False\n",
       "H2O_API_Extensions:         Amazon S3, XGBoost, Algos, AutoML, Core V3, TargetEncoder, Core V4\n",
       "Python_version:             3.8.2 final\n",
       "--------------------------  ------------------------------------------------------------------"
      ]
     },
     "metadata": {},
     "output_type": "display_data"
    }
   ],
   "source": [
    "h2o.init()"
   ]
  },
  {
   "cell_type": "code",
   "execution_count": 12,
   "metadata": {
    "scrolled": true
   },
   "outputs": [
    {
     "name": "stdout",
     "output_type": "stream",
     "text": [
      "Parse progress: |█████████████████████████████████████████████████████████| 100%\n"
     ]
    }
   ],
   "source": [
    "h2 = h2o.H2OFrame(df_ml)"
   ]
  },
  {
   "cell_type": "code",
   "execution_count": 15,
   "metadata": {},
   "outputs": [
    {
     "name": "stdout",
     "output_type": "stream",
     "text": [
      "AutoML progress: |████████████████████████████████████████████████████████| 100%\n"
     ]
    }
   ],
   "source": [
    "automl = H2OAutoML(max_models=50, seed=1,max_runtime_secs=1200, sort_metric='RMSE')\n",
    "automl.train(x, y, training_frame=h2)"
   ]
  },
  {
   "cell_type": "code",
   "execution_count": 16,
   "metadata": {},
   "outputs": [
    {
     "data": {
      "text/html": [
       "<table>\n",
       "<thead>\n",
       "<tr><th>model_id                                           </th><th style=\"text-align: right;\">   rmse</th><th style=\"text-align: right;\">  mean_residual_deviance</th><th style=\"text-align: right;\">        mse</th><th style=\"text-align: right;\">     mae</th><th style=\"text-align: right;\">      rmsle</th></tr>\n",
       "</thead>\n",
       "<tbody>\n",
       "<tr><td>StackedEnsemble_BestOfFamily_AutoML_20201011_003407</td><td style=\"text-align: right;\">36837.6</td><td style=\"text-align: right;\">             1.35701e+09</td><td style=\"text-align: right;\">1.35701e+09</td><td style=\"text-align: right;\">10833   </td><td style=\"text-align: right;\">  0.0397791</td></tr>\n",
       "<tr><td>StackedEnsemble_AllModels_AutoML_20201011_003407   </td><td style=\"text-align: right;\">37515.5</td><td style=\"text-align: right;\">             1.40741e+09</td><td style=\"text-align: right;\">1.40741e+09</td><td style=\"text-align: right;\">10480.2 </td><td style=\"text-align: right;\">  0.0386029</td></tr>\n",
       "<tr><td>XGBoost_grid__1_AutoML_20201011_003407_model_4     </td><td style=\"text-align: right;\">44241.2</td><td style=\"text-align: right;\">             1.95729e+09</td><td style=\"text-align: right;\">1.95729e+09</td><td style=\"text-align: right;\"> 8933.54</td><td style=\"text-align: right;\">  0.0307906</td></tr>\n",
       "<tr><td>GBM_grid__1_AutoML_20201011_003407_model_1         </td><td style=\"text-align: right;\">45550.9</td><td style=\"text-align: right;\">             2.07488e+09</td><td style=\"text-align: right;\">2.07488e+09</td><td style=\"text-align: right;\">16562.1 </td><td style=\"text-align: right;\">  0.0566898</td></tr>\n",
       "<tr><td>GBM_1_AutoML_20201011_003407                       </td><td style=\"text-align: right;\">46794.5</td><td style=\"text-align: right;\">             2.18973e+09</td><td style=\"text-align: right;\">2.18973e+09</td><td style=\"text-align: right;\">11619.9 </td><td style=\"text-align: right;\">  0.0367627</td></tr>\n",
       "<tr><td>DeepLearning_1_AutoML_20201011_003407              </td><td style=\"text-align: right;\">48528.7</td><td style=\"text-align: right;\">             2.35504e+09</td><td style=\"text-align: right;\">2.35504e+09</td><td style=\"text-align: right;\">25779.4 </td><td style=\"text-align: right;\">  0.0920801</td></tr>\n",
       "<tr><td>GBM_2_AutoML_20201011_003407                       </td><td style=\"text-align: right;\">50828.5</td><td style=\"text-align: right;\">             2.58354e+09</td><td style=\"text-align: right;\">2.58354e+09</td><td style=\"text-align: right;\">14379.6 </td><td style=\"text-align: right;\">  0.0513103</td></tr>\n",
       "<tr><td>GBM_3_AutoML_20201011_003407                       </td><td style=\"text-align: right;\">53169.8</td><td style=\"text-align: right;\">             2.82702e+09</td><td style=\"text-align: right;\">2.82702e+09</td><td style=\"text-align: right;\">13772.4 </td><td style=\"text-align: right;\">  0.0504594</td></tr>\n",
       "<tr><td>XGBoost_3_AutoML_20201011_003407                   </td><td style=\"text-align: right;\">53698.6</td><td style=\"text-align: right;\">             2.88354e+09</td><td style=\"text-align: right;\">2.88354e+09</td><td style=\"text-align: right;\">18800.2 </td><td style=\"text-align: right;\">nan        </td></tr>\n",
       "<tr><td>XGBoost_grid__1_AutoML_20201011_003407_model_5     </td><td style=\"text-align: right;\">54117.4</td><td style=\"text-align: right;\">             2.92869e+09</td><td style=\"text-align: right;\">2.92869e+09</td><td style=\"text-align: right;\">14630.5 </td><td style=\"text-align: right;\">  0.0535607</td></tr>\n",
       "</tbody>\n",
       "</table>"
      ]
     },
     "metadata": {},
     "output_type": "display_data"
    },
    {
     "data": {
      "text/plain": []
     },
     "execution_count": 16,
     "metadata": {},
     "output_type": "execute_result"
    }
   ],
   "source": [
    "leader_board = automl.leaderboard\n",
    "leader_board.head()"
   ]
  },
  {
   "cell_type": "code",
   "execution_count": 17,
   "metadata": {},
   "outputs": [
    {
     "name": "stdout",
     "output_type": "stream",
     "text": [
      "Model Details\n",
      "=============\n",
      "H2OStackedEnsembleEstimator :  Stacked Ensemble\n",
      "Model Key:  StackedEnsemble_BestOfFamily_AutoML_20201011_003407\n",
      "\n",
      "No model summary for this model\n",
      "\n",
      "ModelMetricsRegressionGLM: stackedensemble\n",
      "** Reported on train data. **\n",
      "\n",
      "MSE: 271032890.94184023\n",
      "RMSE: 16463.076594058602\n",
      "MAE: 8700.925931527372\n",
      "RMSLE: 0.03100408862072402\n",
      "R^2: 0.9989061965032819\n",
      "Mean Residual Deviance: 271032890.94184023\n",
      "Null degrees of freedom: 10036\n",
      "Residual degrees of freedom: 10033\n",
      "Null deviance: 2487154130759586.0\n",
      "Residual deviance: 2720357126383.2505\n",
      "AIC: 223389.73629562513\n",
      "\n",
      "ModelMetricsRegressionGLM: stackedensemble\n",
      "** Reported on cross-validation data. **\n",
      "\n",
      "MSE: 1357008937.133393\n",
      "RMSE: 36837.602217481435\n",
      "MAE: 10832.979651494838\n",
      "RMSLE: 0.039779075392123116\n",
      "R^2: 0.9945990328598889\n",
      "Mean Residual Deviance: 1357008937.133393\n",
      "Null degrees of freedom: 14782\n",
      "Residual degrees of freedom: 14779\n",
      "Null deviance: 3714417511818014.0\n",
      "Residual deviance: 20060663117642.95\n",
      "AIC: 352827.3736382241\n"
     ]
    },
    {
     "data": {
      "text/plain": []
     },
     "execution_count": 17,
     "metadata": {},
     "output_type": "execute_result"
    }
   ],
   "source": [
    "automl.leader"
   ]
  },
  {
   "cell_type": "code",
   "execution_count": 32,
   "metadata": {},
   "outputs": [
    {
     "name": "stdout",
     "output_type": "stream",
     "text": [
      "AutoML progress: |████████████████████████████████████████████████████████| 100%\n"
     ]
    },
    {
     "data": {
      "text/html": [
       "<table>\n",
       "<thead>\n",
       "<tr><th>model_id                                           </th><th style=\"text-align: right;\">  mean_residual_deviance</th><th style=\"text-align: right;\">   rmse</th><th style=\"text-align: right;\">        mse</th><th style=\"text-align: right;\">     mae</th><th style=\"text-align: right;\">      rmsle</th></tr>\n",
       "</thead>\n",
       "<tbody>\n",
       "<tr><td>StackedEnsemble_BestOfFamily_AutoML_20201011_212129</td><td style=\"text-align: right;\">             1.15785e+09</td><td style=\"text-align: right;\">34027.2</td><td style=\"text-align: right;\">1.15785e+09</td><td style=\"text-align: right;\"> 8967.53</td><td style=\"text-align: right;\">  0.0324121</td></tr>\n",
       "<tr><td>StackedEnsemble_AllModels_AutoML_20201011_212129   </td><td style=\"text-align: right;\">             1.18552e+09</td><td style=\"text-align: right;\">34431.4</td><td style=\"text-align: right;\">1.18552e+09</td><td style=\"text-align: right;\"> 8669.49</td><td style=\"text-align: right;\">  0.0306165</td></tr>\n",
       "<tr><td>GBM_grid__1_AutoML_20201011_212129_model_36        </td><td style=\"text-align: right;\">             1.46662e+09</td><td style=\"text-align: right;\">38296.5</td><td style=\"text-align: right;\">1.46662e+09</td><td style=\"text-align: right;\"> 4938.66</td><td style=\"text-align: right;\">  0.021348 </td></tr>\n",
       "<tr><td>GBM_grid__1_AutoML_20201011_212129_model_17        </td><td style=\"text-align: right;\">             1.80113e+09</td><td style=\"text-align: right;\">42439.8</td><td style=\"text-align: right;\">1.80113e+09</td><td style=\"text-align: right;\"> 6594.02</td><td style=\"text-align: right;\">  0.0259239</td></tr>\n",
       "<tr><td>GBM_grid__1_AutoML_20201011_212129_model_27        </td><td style=\"text-align: right;\">             1.94438e+09</td><td style=\"text-align: right;\">44095.1</td><td style=\"text-align: right;\">1.94438e+09</td><td style=\"text-align: right;\">15923.9 </td><td style=\"text-align: right;\">nan        </td></tr>\n",
       "<tr><td>GBM_1_AutoML_20201011_212129                       </td><td style=\"text-align: right;\">             2.06102e+09</td><td style=\"text-align: right;\">45398.5</td><td style=\"text-align: right;\">2.06102e+09</td><td style=\"text-align: right;\">11642.4 </td><td style=\"text-align: right;\">  0.0357833</td></tr>\n",
       "<tr><td>GBM_grid__1_AutoML_20201011_212129_model_38        </td><td style=\"text-align: right;\">             2.12379e+09</td><td style=\"text-align: right;\">46084.6</td><td style=\"text-align: right;\">2.12379e+09</td><td style=\"text-align: right;\">15888.1 </td><td style=\"text-align: right;\">nan        </td></tr>\n",
       "<tr><td>XGBoost_grid__1_AutoML_20201011_212129_model_5     </td><td style=\"text-align: right;\">             2.18537e+09</td><td style=\"text-align: right;\">46748  </td><td style=\"text-align: right;\">2.18537e+09</td><td style=\"text-align: right;\">14975.8 </td><td style=\"text-align: right;\">  0.0453499</td></tr>\n",
       "<tr><td>DeepLearning_1_AutoML_20201011_212129              </td><td style=\"text-align: right;\">             2.32147e+09</td><td style=\"text-align: right;\">48181.6</td><td style=\"text-align: right;\">2.32147e+09</td><td style=\"text-align: right;\">23638.1 </td><td style=\"text-align: right;\">  0.0937744</td></tr>\n",
       "<tr><td>XGBoost_3_AutoML_20201011_212129                   </td><td style=\"text-align: right;\">             2.40998e+09</td><td style=\"text-align: right;\">49091.6</td><td style=\"text-align: right;\">2.40998e+09</td><td style=\"text-align: right;\">15401.4 </td><td style=\"text-align: right;\">  0.0548432</td></tr>\n",
       "</tbody>\n",
       "</table>"
      ]
     },
     "metadata": {},
     "output_type": "display_data"
    },
    {
     "name": "stdout",
     "output_type": "stream",
     "text": [
      "\n"
     ]
    }
   ],
   "source": [
    "aml2 = H2OAutoML(max_runtime_secs = 3000)\n",
    "aml2.train(X,y,training_frame=h2)\n",
    "lb = aml2.leaderboard\n",
    "print (lb)"
   ]
  },
  {
   "cell_type": "code",
   "execution_count": 33,
   "metadata": {},
   "outputs": [],
   "source": [
    "prueba = pd.read_csv('outputs/PUREBA.csv',index_col=0)"
   ]
  },
  {
   "cell_type": "code",
   "execution_count": 34,
   "metadata": {},
   "outputs": [
    {
     "ename": "SyntaxError",
     "evalue": "invalid syntax (<ipython-input-34-a4e37afd04d7>, line 1)",
     "output_type": "error",
     "traceback": [
      "\u001b[0;36m  File \u001b[0;32m\"<ipython-input-34-a4e37afd04d7>\"\u001b[0;36m, line \u001b[0;32m1\u001b[0m\n\u001b[0;31m    input1 = np.array('sq_mt_built':101,110,40 , 'n_rooms': 2,3,2 , 'n_bathrooms','floor',\u001b[0m\n\u001b[0m                                   ^\u001b[0m\n\u001b[0;31mSyntaxError\u001b[0m\u001b[0;31m:\u001b[0m invalid syntax\n"
     ]
    }
   ],
   "source": [
    "input1 = np.array('sq_mt_built':101,110,40 , 'n_rooms': 2,3,2 , 'n_bathrooms','floor',\n",
    "                   'buy_price_by_area','is_renewal_needed',\n",
    "                   'is_new_development', 'has_lift', 'is_exterior',\n",
    "                   'has_parking','lat', 'long'],\n",
    "                  [101, 2, 2, 1, 3292, 0,0,1,1,0, 40.404778, -3.693936,0,87,16,1],\n",
    "                  [110, 3, 2, 2, 3292, 0,0,1,1,0, 40.404778, -3.693936,0,87,16,1],\n",
    "                  [40, 2, 1, 1, 3292, 0,0,0,1,0, 40.402373, -3.7139,0,87,16,1]])"
   ]
  },
  {
   "cell_type": "code",
   "execution_count": 35,
   "metadata": {},
   "outputs": [
    {
     "name": "stdout",
     "output_type": "stream",
     "text": [
      "Parse progress: |█████████████████████████████████████████████████████████| 100%\n",
      "stackedensemble prediction progress: |████████████████████████████████████| 100%\n"
     ]
    },
    {
     "data": {
      "text/html": [
       "<table>\n",
       "<thead>\n",
       "<tr><th style=\"text-align: right;\">  predict</th></tr>\n",
       "</thead>\n",
       "<tbody>\n",
       "<tr><td style=\"text-align: right;\">   323966</td></tr>\n",
       "<tr><td style=\"text-align: right;\">   361733</td></tr>\n",
       "<tr><td style=\"text-align: right;\">   135462</td></tr>\n",
       "</tbody>\n",
       "</table>"
      ]
     },
     "metadata": {},
     "output_type": "display_data"
    },
    {
     "data": {
      "text/plain": []
     },
     "execution_count": 35,
     "metadata": {},
     "output_type": "execute_result"
    }
   ],
   "source": [
    "h3 = h2o.H2OFrame(prueba)\n",
    "aml2.leader.predict(h3)"
   ]
  },
  {
   "cell_type": "code",
   "execution_count": null,
   "metadata": {},
   "outputs": [],
   "source": []
  },
  {
   "cell_type": "code",
   "execution_count": null,
   "metadata": {},
   "outputs": [],
   "source": []
  }
 ],
 "metadata": {
  "kernelspec": {
   "display_name": "Python 3",
   "language": "python",
   "name": "python3"
  },
  "language_info": {
   "codemirror_mode": {
    "name": "ipython",
    "version": 3
   },
   "file_extension": ".py",
   "mimetype": "text/x-python",
   "name": "python",
   "nbconvert_exporter": "python",
   "pygments_lexer": "ipython3",
   "version": "3.8.2"
  }
 },
 "nbformat": 4,
 "nbformat_minor": 4
}
